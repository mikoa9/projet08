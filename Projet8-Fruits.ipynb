{
 "cells": [
  {
   "cell_type": "markdown",
   "metadata": {},
   "source": [
    "# P8 Déployez un modèle dans le cloud"
   ]
  },
  {
   "cell_type": "markdown",
   "metadata": {},
   "source": [
    "1. Importation des librairies\n",
    "2. Découverte du dataset\n",
    "3. Preprocessing\n",
    "4. Réduction de dimension"
   ]
  },
  {
   "cell_type": "markdown",
   "metadata": {},
   "source": [
    "## I. Importation des librairies et chargement des données"
   ]
  },
  {
   "cell_type": "code",
   "execution_count": 1,
   "metadata": {
    "collapsed": true
   },
   "outputs": [],
   "source": [
    "import os"
   ]
  },
  {
   "cell_type": "code",
   "execution_count": 2,
   "metadata": {},
   "outputs": [
    {
     "name": "stderr",
     "output_type": "stream",
     "text": [
      "/home/clalbertini7/anaconda3/lib/python3.5/site-packages/pandas/compat/_optional.py:106: UserWarning: Pandas requires version '1.2.1' or newer of 'bottleneck' (version '1.0.0' currently installed).\n",
      "  warnings.warn(msg, UserWarning)\n"
     ]
    }
   ],
   "source": [
    "import numpy as np\n",
    "import pandas as pd"
   ]
  },
  {
   "cell_type": "code",
   "execution_count": 3,
   "metadata": {
    "collapsed": true
   },
   "outputs": [],
   "source": [
    "import findspark\n",
    "findspark.init()"
   ]
  },
  {
   "cell_type": "code",
   "execution_count": 4,
   "metadata": {
    "collapsed": true
   },
   "outputs": [],
   "source": [
    "import seaborn as sns\n",
    "import matplotlib.pyplot as plt"
   ]
  },
  {
   "cell_type": "code",
   "execution_count": 5,
   "metadata": {
    "collapsed": true
   },
   "outputs": [],
   "source": [
    "from tensorflow import keras"
   ]
  },
  {
   "cell_type": "code",
   "execution_count": 6,
   "metadata": {
    "collapsed": true
   },
   "outputs": [],
   "source": [
    "# Pyspark\n",
    "from pyspark import SparkContext, SparkConf\n",
    "from pyspark.sql.functions import pandas_udf, PandasUDFType\n",
    "from pyspark.sql.types import ArrayType, IntegerType, FloatType, StringType\n",
    "from pyspark.sql.functions import split, col, udf\n",
    "from pyspark.ml.feature import PCA\n",
    "from pyspark.ml.feature import StandardScaler, StringIndexer, MinMaxScaler\n",
    "from pyspark.sql import SparkSession\n",
    "from pyspark.ml.linalg import Vectors, VectorUDT\n",
    "from pyspark.ml.feature import VectorAssembler\n",
    "\n",
    "from PIL import Image\n",
    "import io\n",
    "from urllib.parse import unquote\n",
    "#Tensorflow \n",
    "#import ResNet50\n",
    "#from keras.applications.resnet50 import ResNet50\n",
    "from tensorflow.keras.applications.resnet50 import ResNet50, preprocess_input\n",
    "from tensorflow.keras.preprocessing.image import img_to_array"
   ]
  },
  {
   "cell_type": "markdown",
   "metadata": {},
   "source": [
    "Chargement des données"
   ]
  },
  {
   "cell_type": "code",
   "execution_count": 7,
   "metadata": {
    "collapsed": true
   },
   "outputs": [],
   "source": [
    "# https://cloud.google.com/storage/docs/reference/libraries\n",
    "\n",
    "from google.cloud import storage\n",
    "# Instantiates a client\n",
    "storage_client = storage.Client()\n",
    "\n",
    "# The name for the new bucket\n",
    "bucket_name = \"fruits-data\"\n",
    "\n",
    "# une variable qui référence le bucket fruites-data afin de pouvoir interagir avec \n",
    "bucket = storage_client.get_bucket(bucket_name)"
   ]
  },
  {
   "cell_type": "code",
   "execution_count": 8,
   "metadata": {
    "collapsed": true
   },
   "outputs": [],
   "source": [
    "# Get blobs in bucket (including all subdirectories)\n",
    "blobs_test = list(bucket.list_blobs(prefix='fruits-360_dataset/fruits-360/Test'))"
   ]
  },
  {
   "cell_type": "markdown",
   "metadata": {},
   "source": [
    "## II. Découverte du dataset"
   ]
  },
  {
   "cell_type": "markdown",
   "metadata": {},
   "source": [
    "1. bytes vers objet RDD (librairie UDF)construire une fonction qui permet d'ouvrir l'image et de retourner l'image: utiliser la librairie PIL from PIL import Image, Image.open(io.BytesIO()), resize image 224*224(conseillé pour les réseaux de neuronnes)"
   ]
  },
  {
   "cell_type": "markdown",
   "metadata": {},
   "source": [
    "len(blobs_test)"
   ]
  },
  {
   "cell_type": "code",
   "execution_count": 9,
   "metadata": {
    "collapsed": true
   },
   "outputs": [],
   "source": [
    "blob_limited = blobs_test[:10]"
   ]
  },
  {
   "cell_type": "code",
   "execution_count": 10,
   "metadata": {},
   "outputs": [
    {
     "data": {
      "text/plain": [
       "<Blob: fruits-data, fruits-360_dataset/fruits-360/Test/Apple Braeburn/321_100.jpg, 1643326881690396>"
      ]
     },
     "execution_count": 10,
     "metadata": {},
     "output_type": "execute_result"
    }
   ],
   "source": [
    "blobs_test[0]"
   ]
  },
  {
   "cell_type": "code",
   "execution_count": 11,
   "metadata": {},
   "outputs": [
    {
     "data": {
      "text/plain": [
       "'image/jpeg'"
      ]
     },
     "execution_count": 11,
     "metadata": {},
     "output_type": "execute_result"
    }
   ],
   "source": [
    "blobs_test[1].content_type"
   ]
  },
  {
   "cell_type": "code",
   "execution_count": 12,
   "metadata": {},
   "outputs": [
    {
     "data": {
      "image/png": "[encoded data removed]",
      "text/plain": [
       "<PIL.Image.Image image mode=RGB size=240x240 at 0x7FB9A3AACF28>"
      ]
     },
     "execution_count": 12,
     "metadata": {},
     "output_type": "execute_result"
    }
   ],
   "source": [
    "Image.open(io.BytesIO(blobs_test[1000].download_as_bytes())).resize([240, 240])"
   ]
  },
  {
   "cell_type": "code",
   "execution_count": 13,
   "metadata": {
    "collapsed": true
   },
   "outputs": [],
   "source": [
    "#for blob in blob_limited:\n",
    "#    file_name = blob.name.replace(\"fruits-360_dataset/fruits-360/Test/Apple Braeburn/\", \"\")\n",
    "#    blob.download_to_filename(file_name)"
   ]
  },
  {
   "cell_type": "code",
   "execution_count": 14,
   "metadata": {},
   "outputs": [
    {
     "data": {
      "image/png": "[encoded data removed]",
      "text/plain": [
       "<PIL.JpegImagePlugin.JpegImageFile image mode=RGB size=100x100 at 0x7FB9FB2141D0>"
      ]
     },
     "execution_count": 14,
     "metadata": {},
     "output_type": "execute_result"
    }
   ],
   "source": [
    "Image.open(io.BytesIO(blobs_test[10].download_as_bytes()))"
   ]
  },
  {
   "cell_type": "code",
   "execution_count": 15,
   "metadata": {},
   "outputs": [
    {
     "data": {
      "image/png": "[encoded data removed]",
      "text/plain": [
       "<PIL.JpegImagePlugin.JpegImageFile image mode=RGB size=100x100 at 0x7FB9A34D5390>"
      ]
     },
     "execution_count": 15,
     "metadata": {},
     "output_type": "execute_result"
    }
   ],
   "source": [
    "Image.open(io.BytesIO(blobs_test[50].download_as_bytes()))"
   ]
  },
  {
   "cell_type": "code",
   "execution_count": 16,
   "metadata": {},
   "outputs": [
    {
     "data": {
      "image/png": "[encoded data removed]",
      "text/plain": [
       "<PIL.JpegImagePlugin.JpegImageFile image mode=RGB size=100x100 at 0x7FB9A34D53C8>"
      ]
     },
     "execution_count": 16,
     "metadata": {},
     "output_type": "execute_result"
    }
   ],
   "source": [
    "Image.open(io.BytesIO(blobs_test[70].download_as_bytes()))"
   ]
  },
  {
   "cell_type": "code",
   "execution_count": 17,
   "metadata": {},
   "outputs": [
    {
     "data": {
      "image/png": "[encoded data removed]",
      "text/plain": [
       "<PIL.JpegImagePlugin.JpegImageFile image mode=RGB size=100x100 at 0x7FB9D3BDAFD0>"
      ]
     },
     "execution_count": 17,
     "metadata": {},
     "output_type": "execute_result"
    }
   ],
   "source": [
    "Image.open(io.BytesIO(blobs_test[90].download_as_bytes()))"
   ]
  },
  {
   "cell_type": "code",
   "execution_count": 18,
   "metadata": {},
   "outputs": [
    {
     "data": {
      "image/png": "[encoded data removed]",
      "text/plain": [
       "<PIL.JpegImagePlugin.JpegImageFile image mode=RGB size=100x100 at 0x7FB9FB231E10>"
      ]
     },
     "execution_count": 18,
     "metadata": {},
     "output_type": "execute_result"
    }
   ],
   "source": [
    "Image.open(io.BytesIO(blobs_test[110].download_as_bytes()))"
   ]
  },
  {
   "cell_type": "code",
   "execution_count": 19,
   "metadata": {},
   "outputs": [
    {
     "data": {
      "image/png": "[encoded data removed]",
      "text/plain": [
       "<PIL.JpegImagePlugin.JpegImageFile image mode=RGB size=100x100 at 0x7FB9A3445A90>"
      ]
     },
     "execution_count": 19,
     "metadata": {},
     "output_type": "execute_result"
    }
   ],
   "source": [
    "Image.open(io.BytesIO(blobs_test[130].download_as_bytes()))"
   ]
  },
  {
   "cell_type": "markdown",
   "metadata": {},
   "source": [
    "Voir nombre de fruits/catégories différentes"
   ]
  },
  {
   "cell_type": "markdown",
   "metadata": {},
   "source": [
    "## III. Preprocessing"
   ]
  },
  {
   "cell_type": "markdown",
   "metadata": {},
   "source": [
    "2. Importer modèle ResNet50, modele summury pour le nombre de couches (expliquer dans pres)/ présentation: expliquer qq elets du resnet50\n",
    "3. Enlever la derniere couches, récup sortie avant dernière couche pour extraire les features.\n",
    "\n",
    "Importation du modèle à partir de keras mais sans couche supérieure (classificateur), car nous voulons uniquement que ce modèle extraie les features."
   ]
  },
  {
   "cell_type": "markdown",
   "metadata": {},
   "source": [
    "Resizer toutes les images à 224*224"
   ]
  },
  {
   "cell_type": "code",
   "execution_count": 20,
   "metadata": {
    "collapsed": true
   },
   "outputs": [],
   "source": [
    "# à mettre en UDF\n",
    "def resize_and_features(blob):\n",
    "    img = Image.open(io.BytesIO(blob.download_as_bytes())).resize([224, 224])\n",
    "    nom_fruit = unquote(blob.public_url.split(\"/\")[-2])\n",
    "    # à ajouter resnet\n",
    "    return img, nom_fruit"
   ]
  },
  {
   "cell_type": "code",
   "execution_count": 21,
   "metadata": {},
   "outputs": [
    {
     "data": {
      "image/png": "[encoded data removed]",
      "text/plain": [
       "<PIL.Image.Image image mode=RGB size=224x224 at 0x7FB9E18EFD68>"
      ]
     },
     "execution_count": 21,
     "metadata": {},
     "output_type": "execute_result"
    }
   ],
   "source": [
    "img_tst = resize_and_features(blobs_test[20000])[0]\n",
    "img_tst"
   ]
  },
  {
   "cell_type": "code",
   "execution_count": 22,
   "metadata": {},
   "outputs": [
    {
     "data": {
      "text/plain": [
       "'https://storage.googleapis.com/fruits-data/fruits-360_dataset/fruits-360/Test/Strawberry%20Wedge/r_102_100.jpg'"
      ]
     },
     "execution_count": 22,
     "metadata": {},
     "output_type": "execute_result"
    }
   ],
   "source": [
    "blobs_test[20000].public_url"
   ]
  },
  {
   "cell_type": "code",
   "execution_count": 23,
   "metadata": {},
   "outputs": [
    {
     "data": {
      "text/plain": [
       "'Strawberry Wedge'"
      ]
     },
     "execution_count": 23,
     "metadata": {},
     "output_type": "execute_result"
    }
   ],
   "source": [
    "resize_and_features(blobs_test[20000])[1]"
   ]
  },
  {
   "cell_type": "code",
   "execution_count": 24,
   "metadata": {},
   "outputs": [
    {
     "data": {
      "text/plain": [
       "array([[[255., 255., 255.],\n",
       "        [255., 255., 255.],\n",
       "        [255., 255., 255.],\n",
       "        ...,\n",
       "        [255., 255., 255.],\n",
       "        [255., 255., 255.],\n",
       "        [255., 255., 255.]],\n",
       "\n",
       "       [[255., 255., 255.],\n",
       "        [255., 255., 255.],\n",
       "        [255., 255., 255.],\n",
       "        ...,\n",
       "        [255., 255., 255.],\n",
       "        [255., 255., 255.],\n",
       "        [255., 255., 255.]],\n",
       "\n",
       "       [[255., 255., 255.],\n",
       "        [255., 255., 255.],\n",
       "        [255., 255., 255.],\n",
       "        ...,\n",
       "        [255., 255., 255.],\n",
       "        [255., 255., 255.],\n",
       "        [255., 255., 255.]],\n",
       "\n",
       "       ...,\n",
       "\n",
       "       [[255., 255., 255.],\n",
       "        [255., 255., 255.],\n",
       "        [255., 255., 255.],\n",
       "        ...,\n",
       "        [255., 255., 255.],\n",
       "        [255., 255., 255.],\n",
       "        [255., 255., 255.]],\n",
       "\n",
       "       [[255., 255., 255.],\n",
       "        [255., 255., 255.],\n",
       "        [255., 255., 255.],\n",
       "        ...,\n",
       "        [255., 255., 255.],\n",
       "        [255., 255., 255.],\n",
       "        [255., 255., 255.]],\n",
       "\n",
       "       [[255., 255., 255.],\n",
       "        [255., 255., 255.],\n",
       "        [255., 255., 255.],\n",
       "        ...,\n",
       "        [255., 255., 255.],\n",
       "        [255., 255., 255.],\n",
       "        [255., 255., 255.]]], dtype=float32)"
      ]
     },
     "execution_count": 24,
     "metadata": {},
     "output_type": "execute_result"
    }
   ],
   "source": [
    "# transformer l'image en array (tableau)\n",
    "arr_test = img_to_array(img_tst)\n",
    "arr_test"
   ]
  },
  {
   "cell_type": "code",
   "execution_count": 25,
   "metadata": {},
   "outputs": [
    {
     "data": {
      "text/plain": [
       "array([[[[151.061  , 138.22101, 131.32   ],\n",
       "         [151.061  , 138.22101, 131.32   ],\n",
       "         [151.061  , 138.22101, 131.32   ],\n",
       "         ...,\n",
       "         [151.061  , 138.22101, 131.32   ],\n",
       "         [151.061  , 138.22101, 131.32   ],\n",
       "         [151.061  , 138.22101, 131.32   ]],\n",
       "\n",
       "        [[151.061  , 138.22101, 131.32   ],\n",
       "         [151.061  , 138.22101, 131.32   ],\n",
       "         [151.061  , 138.22101, 131.32   ],\n",
       "         ...,\n",
       "         [151.061  , 138.22101, 131.32   ],\n",
       "         [151.061  , 138.22101, 131.32   ],\n",
       "         [151.061  , 138.22101, 131.32   ]],\n",
       "\n",
       "        [[151.061  , 138.22101, 131.32   ],\n",
       "         [151.061  , 138.22101, 131.32   ],\n",
       "         [151.061  , 138.22101, 131.32   ],\n",
       "         ...,\n",
       "         [151.061  , 138.22101, 131.32   ],\n",
       "         [151.061  , 138.22101, 131.32   ],\n",
       "         [151.061  , 138.22101, 131.32   ]],\n",
       "\n",
       "        ...,\n",
       "\n",
       "        [[151.061  , 138.22101, 131.32   ],\n",
       "         [151.061  , 138.22101, 131.32   ],\n",
       "         [151.061  , 138.22101, 131.32   ],\n",
       "         ...,\n",
       "         [151.061  , 138.22101, 131.32   ],\n",
       "         [151.061  , 138.22101, 131.32   ],\n",
       "         [151.061  , 138.22101, 131.32   ]],\n",
       "\n",
       "        [[151.061  , 138.22101, 131.32   ],\n",
       "         [151.061  , 138.22101, 131.32   ],\n",
       "         [151.061  , 138.22101, 131.32   ],\n",
       "         ...,\n",
       "         [151.061  , 138.22101, 131.32   ],\n",
       "         [151.061  , 138.22101, 131.32   ],\n",
       "         [151.061  , 138.22101, 131.32   ]],\n",
       "\n",
       "        [[151.061  , 138.22101, 131.32   ],\n",
       "         [151.061  , 138.22101, 131.32   ],\n",
       "         [151.061  , 138.22101, 131.32   ],\n",
       "         ...,\n",
       "         [151.061  , 138.22101, 131.32   ],\n",
       "         [151.061  , 138.22101, 131.32   ],\n",
       "         [151.061  , 138.22101, 131.32   ]]]], dtype=float32)"
      ]
     },
     "execution_count": 25,
     "metadata": {},
     "output_type": "execute_result"
    }
   ],
   "source": [
    "# redimensionne l'array et preprocessing avec Resnet50\n",
    "preproc_test = preprocess_input(np.expand_dims(arr_test, axis=0))\n",
    "preproc_test"
   ]
  },
  {
   "cell_type": "code",
   "execution_count": 26,
   "metadata": {},
   "outputs": [
    {
     "data": {
      "text/plain": [
       "(1, 224, 224, 3)"
      ]
     },
     "execution_count": 26,
     "metadata": {},
     "output_type": "execute_result"
    }
   ],
   "source": [
    "preproc_test.shape"
   ]
  },
  {
   "cell_type": "markdown",
   "metadata": {},
   "source": [
    "Prédiction avec ResNet50"
   ]
  },
  {
   "cell_type": "code",
   "execution_count": 27,
   "metadata": {
    "collapsed": true
   },
   "outputs": [],
   "source": [
    "model = ResNet50()\n",
    "prediction = model.predict(preproc_test)"
   ]
  },
  {
   "cell_type": "code",
   "execution_count": 28,
   "metadata": {},
   "outputs": [
    {
     "data": {
      "text/plain": [
       "(1, 1000)"
      ]
     },
     "execution_count": 28,
     "metadata": {},
     "output_type": "execute_result"
    }
   ],
   "source": [
    "prediction.shape"
   ]
  },
  {
   "cell_type": "code",
   "execution_count": 29,
   "metadata": {},
   "outputs": [
    {
     "data": {
      "text/plain": [
       "[[('n07745940', 'strawberry', 0.99907863)]]"
      ]
     },
     "execution_count": 29,
     "metadata": {},
     "output_type": "execute_result"
    }
   ],
   "source": [
    "from tensorflow.keras.applications.resnet50 import decode_predictions\n",
    "predictionLabel = decode_predictions(prediction, top = 1)\n",
    "predictionLabel"
   ]
  },
  {
   "cell_type": "code",
   "execution_count": 30,
   "metadata": {},
   "outputs": [
    {
     "data": {
      "text/plain": [
       "<function tensorflow.python.keras.preprocessing.image.img_to_array>"
      ]
     },
     "execution_count": 30,
     "metadata": {},
     "output_type": "execute_result"
    }
   ],
   "source": [
    "img_to_array"
   ]
  },
  {
   "cell_type": "code",
   "execution_count": 31,
   "metadata": {
    "collapsed": true
   },
   "outputs": [],
   "source": [
    "model_without_top_layer = ResNet50(include_top=False)"
   ]
  },
  {
   "cell_type": "code",
   "execution_count": 32,
   "metadata": {
    "collapsed": true
   },
   "outputs": [],
   "source": [
    "img_test = Image.open(io.BytesIO(blobs_test[20000].download_as_bytes())).resize([224, 224])\n",
    "arr_test = img_to_array(img_tst)\n",
    "processed_input = preprocess_input(np.expand_dims(arr_test, axis=0))\n",
    "predictions = model_without_top_layer.predict(processed_input)"
   ]
  },
  {
   "cell_type": "code",
   "execution_count": 33,
   "metadata": {},
   "outputs": [
    {
     "data": {
      "text/plain": [
       "100352"
      ]
     },
     "execution_count": 33,
     "metadata": {},
     "output_type": "execute_result"
    }
   ],
   "source": [
    "len(predictions.flatten())"
   ]
  },
  {
   "cell_type": "code",
   "execution_count": 34,
   "metadata": {},
   "outputs": [
    {
     "data": {
      "text/plain": [
       "(1, 7, 7, 2048)"
      ]
     },
     "execution_count": 34,
     "metadata": {},
     "output_type": "execute_result"
    }
   ],
   "source": [
    "predictions.shape"
   ]
  },
  {
   "cell_type": "markdown",
   "metadata": {},
   "source": [
    "## Importer les données dans une dataframe Spark"
   ]
  },
  {
   "cell_type": "code",
   "execution_count": 35,
   "metadata": {
    "collapsed": true
   },
   "outputs": [],
   "source": [
    "os.environ[\"PYSPARK_PYTHON\"] = \"/home/clalbertini7/anaconda3/bin/python3\"\n",
    "os.environ[\"PYSPARK_DRIVER_PYTHON\"] = \"/home/clalbertini7/anaconda3/bin/python3\""
   ]
  },
  {
   "cell_type": "code",
   "execution_count": 36,
   "metadata": {},
   "outputs": [
    {
     "data": {
      "text/plain": [
       "environ({'LANG': 'C.UTF-8', 'XDG_SESSION_CLASS': 'user', 'PYSPARK_PYTHON': '/home/clalbertini7/anaconda3/bin/python3', 'XDG_SESSION_ID': '1', 'GOOGLE_APPLICATION_CREDENTIALS': '/home/clalbertini7/eloquent-hangar.json', 'HADOOP_CLASSPATH': ':/home/clalbertini7/gcs-connector-hadoop3-latest.jar', 'USER': 'clalbertini7', '_': '/home/clalbertini7/anaconda3/bin/jupyter', 'PATH': '/home/clalbertini7/anaconda3/bin:/home/clalbertini7/anaconda3/bin:/usr/local/bin:/usr/bin:/bin:/usr/local/games:/usr/games/usr/lib/jvm/java-11-openjdk-amd64/bin:/opt/spark/bin:/opt/spark/sbin', 'PWD': '/home/clalbertini7', 'SSH_TTY': '/dev/pts/0', 'SHLVL': '1', 'SSH_CONNECTION': '35.235.243.225 40489 10.132.0.4 22', 'PAGER': 'cat', 'LS_COLORS': 'rs=0:di=01;34:ln=01;36:mh=00:pi=40;33:so=01;35:do=01;35:bd=40;33;01:cd=40;33;01:or=40;31;01:mi=00:su=37;41:sg=30;43:ca=30;41:tw=30;42:ow=34;42:st=37;44:ex=01;32:*.tar=01;31:*.tgz=01;31:*.arc=01;31:*.arj=01;31:*.taz=01;31:*.lha=01;31:*.lz4=01;31:*.lzh=01;31:*.lzma=01;31:*.tlz=01;31:*.txz=01;31:*.tzo=01;31:*.t7z=01;31:*.zip=01;31:*.z=01;31:*.dz=01;31:*.gz=01;31:*.lrz=01;31:*.lz=01;31:*.lzo=01;31:*.xz=01;31:*.zst=01;31:*.tzst=01;31:*.bz2=01;31:*.bz=01;31:*.tbz=01;31:*.tbz2=01;31:*.tz=01;31:*.deb=01;31:*.rpm=01;31:*.jar=01;31:*.war=01;31:*.ear=01;31:*.sar=01;31:*.rar=01;31:*.alz=01;31:*.ace=01;31:*.zoo=01;31:*.cpio=01;31:*.7z=01;31:*.rz=01;31:*.cab=01;31:*.wim=01;31:*.swm=01;31:*.dwm=01;31:*.esd=01;31:*.jpg=01;35:*.jpeg=01;35:*.mjpg=01;35:*.mjpeg=01;35:*.gif=01;35:*.bmp=01;35:*.pbm=01;35:*.pgm=01;35:*.ppm=01;35:*.tga=01;35:*.xbm=01;35:*.xpm=01;35:*.tif=01;35:*.tiff=01;35:*.png=01;35:*.svg=01;35:*.svgz=01;35:*.mng=01;35:*.pcx=01;35:*.mov=01;35:*.mpg=01;35:*.mpeg=01;35:*.m2v=01;35:*.mkv=01;35:*.webm=01;35:*.ogm=01;35:*.mp4=01;35:*.m4v=01;35:*.mp4v=01;35:*.vob=01;35:*.qt=01;35:*.nuv=01;35:*.wmv=01;35:*.asf=01;35:*.rm=01;35:*.rmvb=01;35:*.flc=01;35:*.avi=01;35:*.fli=01;35:*.flv=01;35:*.gl=01;35:*.dl=01;35:*.xcf=01;35:*.xwd=01;35:*.yuv=01;35:*.cgm=01;35:*.emf=01;35:*.ogv=01;35:*.ogx=01;35:*.aac=00;36:*.au=00;36:*.flac=00;36:*.m4a=00;36:*.mid=00;36:*.midi=00;36:*.mka=00;36:*.mp3=00;36:*.mpc=00;36:*.ogg=00;36:*.ra=00;36:*.wav=00;36:*.oga=00;36:*.opus=00;36:*.spx=00;36:*.xspf=00;36:', 'SPARK_HOME': '/home/clalbertini7/anaconda3/lib/python3.5/site-packages/pyspark', 'JAVA_HOME': '/usr/lib/jvm/java-11-openjdk-amd64', 'XDG_SESSION_TYPE': 'tty', 'LOGNAME': 'clalbertini7', 'HOME': '/home/clalbertini7', 'TERM': 'xterm-color', 'PYSPARK_DRIVER_PYTHON': '/home/clalbertini7/anaconda3/bin/python3', 'MPLBACKEND': 'module://ipykernel.pylab.backend_inline', 'CLICOLOR': '1', 'XDG_RUNTIME_DIR': '/run/user/1000', 'SSH_CLIENT': '35.235.243.225 40489 22', 'MAIL': '/var/mail/clalbertini7', 'TF2_BEHAVIOR': '1', 'SHELL': '/bin/bash', 'SSH_AUTH_SOCK': '/tmp/ssh-P42XN5WVAb/agent.724', 'DBUS_SESSION_BUS_ADDRESS': 'unix:path=/run/user/1000/bus', 'JPY_PARENT_PID': '4244', 'GIT_PAGER': 'cat'})"
      ]
     },
     "execution_count": 36,
     "metadata": {},
     "output_type": "execute_result"
    }
   ],
   "source": [
    "os.environ"
   ]
  },
  {
   "cell_type": "code",
   "execution_count": 37,
   "metadata": {},
   "outputs": [
    {
     "name": "stderr",
     "output_type": "stream",
     "text": [
      "/home/clalbertini7/anaconda3/lib/python3.5/site-packages/pyspark/context.py:227: DeprecationWarning: Support for Python 2 and Python 3 prior to version 3.6 is deprecated as of Spark 3.0. See also the plan for dropping Python 2 support at https://spark.apache.org/news/plan-for-dropping-python-2-support.html.\n",
      "  DeprecationWarning)\n"
     ]
    }
   ],
   "source": [
    "spark = (SparkSession\n",
    "         .builder.master('local[*]')\n",
    "         .appName('Projet8')\n",
    "         .config(\"spark.jars\",\"/home/clalbertini7/gcs-connector-hadoop3-latest.jar\")\n",
    "         .config(\"spark.driver.extraJavaOptions\",\"-Dio.netty.tryReflectionSetAccessible=true\")\n",
    "         .config(\"spark.executor.extraJavaOptions\",\"-Dio.netty.tryReflectionSetAccessible=true\")\n",
    "         .getOrCreate())"
   ]
  },
  {
   "cell_type": "code",
   "execution_count": 38,
   "metadata": {
    "collapsed": true
   },
   "outputs": [],
   "source": [
    "sc = spark.sparkContext\n",
    "spark._jsc.hadoopConfiguration().set('fs.AbstractFileSystem.gs.impl', 'com.google.cloud.hadoop.fs.gcs.GoogleHadoopFS')\n",
    "spark._jsc.hadoopConfiguration().set('fs.gs.impl', 'com.google.cloud.hadoop.fs.gcs.GoogleHadoopFileSystem')\n",
    "# This is required if you are using service account and set true, \n",
    "spark._jsc.hadoopConfiguration().set('fs.gs.auth.service.account.enable', 'true')\n",
    "spark._jsc.hadoopConfiguration().set('google.cloud.auth.service.account.json.keyfile', \"/home/clalbertini7/eloquent-hangar.json\")"
   ]
  },
  {
   "cell_type": "code",
   "execution_count": 39,
   "metadata": {
    "scrolled": false
   },
   "outputs": [
    {
     "name": "stdout",
     "output_type": "stream",
     "text": [
      "root\n",
      " |-- path: string (nullable = true)\n",
      " |-- modificationTime: timestamp (nullable = true)\n",
      " |-- length: long (nullable = true)\n",
      " |-- content: binary (nullable = true)\n",
      "\n"
     ]
    }
   ],
   "source": [
    "gs_url = \"gs://fruits-data/fruits-360-PCA/*\"\n",
    "image_df = spark.read.format(\"binaryfile\").load(gs_url)\n",
    "image_df.printSchema()"
   ]
  },
  {
   "cell_type": "code",
   "execution_count": 40,
   "metadata": {},
   "outputs": [
    {
     "name": "stdout",
     "output_type": "stream",
     "text": [
      "+--------------------+--------------------+\n",
      "|                path|             content|\n",
      "+--------------------+--------------------+\n",
      "|gs://fruits-data/...|[FF D8 FF E0 00 1...|\n",
      "|gs://fruits-data/...|[FF D8 FF E0 00 1...|\n",
      "|gs://fruits-data/...|[FF D8 FF E0 00 1...|\n",
      "|gs://fruits-data/...|[FF D8 FF E0 00 1...|\n",
      "|gs://fruits-data/...|[FF D8 FF E0 00 1...|\n",
      "|gs://fruits-data/...|[FF D8 FF E0 00 1...|\n",
      "|gs://fruits-data/...|[FF D8 FF E0 00 1...|\n",
      "|gs://fruits-data/...|[FF D8 FF E0 00 1...|\n",
      "+--------------------+--------------------+\n",
      "\n"
     ]
    }
   ],
   "source": [
    "image_df.select('path', 'content').show()"
   ]
  },
  {
   "cell_type": "code",
   "execution_count": 41,
   "metadata": {},
   "outputs": [
    {
     "name": "stdout",
     "output_type": "stream",
     "text": [
      "+--------------------+--------------------+------+--------------------+------------------+\n",
      "|                path|    modificationTime|length|             content|             label|\n",
      "+--------------------+--------------------+------+--------------------+------------------+\n",
      "|gs://fruits-data/...|2022-02-08 21:32:...|  5083|[FF D8 FF E0 00 1...|              Kiwi|\n",
      "|gs://fruits-data/...|2022-02-08 21:32:...|  4965|[FF D8 FF E0 00 1...|              Kiwi|\n",
      "|gs://fruits-data/...|2022-02-08 21:32:...|  4473|[FF D8 FF E0 00 1...|           Apricot|\n",
      "|gs://fruits-data/...|2022-02-08 21:32:...|  4404|[FF D8 FF E0 00 1...|           Apricot|\n",
      "|gs://fruits-data/...|2022-02-08 21:32:...|  4162|[FF D8 FF E0 00 1...|Apple Granny Smith|\n",
      "|gs://fruits-data/...|2022-02-08 21:32:...|  4059|[FF D8 FF E0 00 1...|Apple Granny Smith|\n",
      "|gs://fruits-data/...|2022-02-08 21:32:...|  3937|[FF D8 FF E0 00 1...|          Chestnut|\n",
      "|gs://fruits-data/...|2022-02-08 21:32:...|  3415|[FF D8 FF E0 00 1...|          Chestnut|\n",
      "+--------------------+--------------------+------+--------------------+------------------+\n",
      "\n"
     ]
    }
   ],
   "source": [
    "images_with_label = image_df.withColumn('label', split(col('path'), '/').getItem(4))\n",
    "images_with_label.show()"
   ]
  },
  {
   "cell_type": "code",
   "execution_count": 42,
   "metadata": {},
   "outputs": [
    {
     "name": "stdout",
     "output_type": "stream",
     "text": [
      "root\n",
      " |-- path: string (nullable = true)\n",
      " |-- modificationTime: timestamp (nullable = true)\n",
      " |-- length: long (nullable = true)\n",
      " |-- content: binary (nullable = true)\n",
      " |-- label: string (nullable = true)\n",
      "\n"
     ]
    }
   ],
   "source": [
    "images_with_label.printSchema()"
   ]
  },
  {
   "cell_type": "code",
   "execution_count": 43,
   "metadata": {},
   "outputs": [
    {
     "data": {
      "text/plain": [
       "[('path', 'string'),\n",
       " ('modificationTime', 'timestamp'),\n",
       " ('length', 'bigint'),\n",
       " ('content', 'binary'),\n",
       " ('label', 'string')]"
      ]
     },
     "execution_count": 43,
     "metadata": {},
     "output_type": "execute_result"
    }
   ],
   "source": [
    "images_with_label.dtypes"
   ]
  },
  {
   "cell_type": "code",
   "execution_count": 44,
   "metadata": {
    "collapsed": true
   },
   "outputs": [],
   "source": [
    "broadcast_model_weights = spark.sparkContext.broadcast(model_without_top_layer.get_weights()) "
   ]
  },
  {
   "cell_type": "code",
   "execution_count": 45,
   "metadata": {
    "collapsed": true
   },
   "outputs": [],
   "source": [
    "# @udf('array<float>')\n",
    "def extract_features(content, model_interne):\n",
    "    img_content = Image.open(io.BytesIO(content)).resize([224, 224])\n",
    "    arr_content = img_to_array(img_content)\n",
    "    processed_content = preprocess_input(np.expand_dims(arr_content, axis=0))\n",
    "    predictions = model_interne.predict(processed_content)\n",
    "    return predictions.flatten()"
   ]
  },
  {
   "cell_type": "code",
   "execution_count": 46,
   "metadata": {
    "collapsed": true
   },
   "outputs": [],
   "source": [
    "def extract_features_series(model_interne, content_b_series):\n",
    "    output = np.stack(content_b_series.apply(extract_features, args=(model_interne,))) \n",
    "    output = [p.flatten() for p in output]\n",
    "    return pd.Series(output)"
   ]
  },
  {
   "cell_type": "code",
   "execution_count": 47,
   "metadata": {
    "collapsed": true
   },
   "outputs": [],
   "source": [
    "@pandas_udf('array<float>', PandasUDFType.SCALAR_ITER)\n",
    "def featurize_udf(content_series_iter):\n",
    "    '''\n",
    "    This method is a Scalar Iterator pandas UDF wrapping our featurization function.\n",
    "    The decorator specifies that this returns a Spark DataFrame column of type ArrayType(FloatType).\n",
    "  \n",
    "    :param content_series_iter: This argument is an iterator over batches of data, where each batch\n",
    "                                is a pandas Series of image data.\n",
    "    '''\n",
    "    model_interne = ResNet50(weights=None, include_top=False) \n",
    "    model_interne.set_weights(broadcast_model_weights.value)\n",
    "    for content_series in content_series_iter:\n",
    "        yield extract_features_series(model_interne, content_series)"
   ]
  },
  {
   "cell_type": "code",
   "execution_count": 48,
   "metadata": {
    "collapsed": true,
    "scrolled": true
   },
   "outputs": [],
   "source": [
    "images_with_features = images_with_label.select(col(\"path\"), col(\"label\"), featurize_udf(\"content\").alias(\"features\"))"
   ]
  },
  {
   "cell_type": "code",
   "execution_count": 49,
   "metadata": {},
   "outputs": [
    {
     "name": "stdout",
     "output_type": "stream",
     "text": [
      "root\n",
      " |-- path: string (nullable = true)\n",
      " |-- label: string (nullable = true)\n",
      " |-- features: array (nullable = true)\n",
      " |    |-- element: float (containsNull = true)\n",
      "\n"
     ]
    }
   ],
   "source": [
    "images_with_features.printSchema()"
   ]
  },
  {
   "cell_type": "code",
   "execution_count": 50,
   "metadata": {},
   "outputs": [
    {
     "name": "stdout",
     "output_type": "stream",
     "text": [
      "+--------------------+------------------+--------------------+\n",
      "|                path|             label|            features|\n",
      "+--------------------+------------------+--------------------+\n",
      "|gs://fruits-data/...|              Kiwi|[0.0, 0.0, 0.0, 0...|\n",
      "|gs://fruits-data/...|              Kiwi|[0.0, 0.0, 0.0, 0...|\n",
      "|gs://fruits-data/...|           Apricot|[0.0, 0.0, 0.0, 0...|\n",
      "|gs://fruits-data/...|           Apricot|[0.0, 0.0, 0.0, 0...|\n",
      "|gs://fruits-data/...|Apple Granny Smith|[0.0, 0.0, 0.0, 0...|\n",
      "|gs://fruits-data/...|Apple Granny Smith|[0.0, 0.0, 0.0, 0...|\n",
      "|gs://fruits-data/...|          Chestnut|[0.0, 0.0, 0.0, 0...|\n",
      "|gs://fruits-data/...|          Chestnut|[0.0, 0.0, 0.0, 0...|\n",
      "+--------------------+------------------+--------------------+\n",
      "\n"
     ]
    }
   ],
   "source": [
    "images_with_features.show()"
   ]
  },
  {
   "cell_type": "code",
   "execution_count": 51,
   "metadata": {
    "collapsed": true
   },
   "outputs": [],
   "source": [
    "vectorize_feats = udf(lambda l: Vectors.dense(l), VectorUDT())\n",
    "images_with_features_vector = images_with_features.select(col(\"path\"),  col(\"label\"), vectorize_feats(images_with_features[\"features\"]).alias(\"features\"))"
   ]
  },
  {
   "cell_type": "code",
   "execution_count": 52,
   "metadata": {},
   "outputs": [
    {
     "name": "stdout",
     "output_type": "stream",
     "text": [
      "+--------------------+------------------+--------------------+\n",
      "|                path|             label|            features|\n",
      "+--------------------+------------------+--------------------+\n",
      "|gs://fruits-data/...|              Kiwi|[0.0,0.0,0.0,0.0,...|\n",
      "|gs://fruits-data/...|              Kiwi|[0.0,0.0,0.0,0.0,...|\n",
      "|gs://fruits-data/...|           Apricot|[0.0,0.0,0.0,0.0,...|\n",
      "|gs://fruits-data/...|           Apricot|[0.0,0.0,0.0,0.0,...|\n",
      "|gs://fruits-data/...|Apple Granny Smith|[0.0,0.0,0.0,0.0,...|\n",
      "|gs://fruits-data/...|Apple Granny Smith|[0.0,0.0,0.0,0.0,...|\n",
      "|gs://fruits-data/...|          Chestnut|[0.0,0.0,0.0,0.0,...|\n",
      "|gs://fruits-data/...|          Chestnut|[0.0,0.0,0.0,0.0,...|\n",
      "+--------------------+------------------+--------------------+\n",
      "\n"
     ]
    }
   ],
   "source": [
    "images_with_features_vector.show()"
   ]
  },
  {
   "cell_type": "code",
   "execution_count": 53,
   "metadata": {
    "collapsed": true
   },
   "outputs": [],
   "source": [
    "# https://stackoverflow.com/questions/55595263/how-to-fix-no-filesystem-for-scheme-gs-in-pyspark\n",
    "# https://stackoverflow.com/questions/62109276/errorjava-lang-unsupportedoperationexception-for-pyspark-pandas-udf-documenta\n",
    "# https://github.com/GoogleCloudDataproc/hadoop-connectors/blob/master/gcs/INSTALL.md"
   ]
  },
  {
   "cell_type": "markdown",
   "metadata": {},
   "source": [
    "## IV. Réduction de dimension"
   ]
  },
  {
   "cell_type": "markdown",
   "metadata": {},
   "source": [
    "4. appliquer sandart scaler Puis faire PCA\n",
    "le transformer par une fonction / ou créer un pyspark dataframe pour récup les features.\n",
    "5. tracer la cumulative explained variance\n",
    "6. affiches image originale et l'image reconstruire à partir de la PCA"
   ]
  },
  {
   "cell_type": "code",
   "execution_count": 54,
   "metadata": {},
   "outputs": [
    {
     "data": {
      "text/plain": [
       "[('path', 'string'), ('label', 'string'), ('features', 'vector')]"
      ]
     },
     "execution_count": 54,
     "metadata": {},
     "output_type": "execute_result"
    }
   ],
   "source": [
    "images_with_features_vector.dtypes"
   ]
  },
  {
   "cell_type": "code",
   "execution_count": 55,
   "metadata": {
    "collapsed": true
   },
   "outputs": [],
   "source": [
    "scaler = StandardScaler(inputCol='features',\n",
    "                              outputCol='feats_scaled')\n",
    "std = scaler.fit(images_with_features_vector)"
   ]
  },
  {
   "cell_type": "code",
   "execution_count": 56,
   "metadata": {},
   "outputs": [
    {
     "name": "stdout",
     "output_type": "stream",
     "text": [
      "+--------------------+------------------+--------------------+--------------------+\n",
      "|                path|             label|            features|        feats_scaled|\n",
      "+--------------------+------------------+--------------------+--------------------+\n",
      "|gs://fruits-data/...|              Kiwi|[0.0,0.0,0.0,0.0,...|[0.0,0.0,0.0,0.0,...|\n",
      "|gs://fruits-data/...|              Kiwi|[0.0,0.0,0.0,0.0,...|[0.0,0.0,0.0,0.0,...|\n",
      "|gs://fruits-data/...|           Apricot|[0.0,0.0,0.0,0.0,...|[0.0,0.0,0.0,0.0,...|\n",
      "|gs://fruits-data/...|           Apricot|[0.0,0.0,0.0,0.0,...|[0.0,0.0,0.0,0.0,...|\n",
      "|gs://fruits-data/...|Apple Granny Smith|[0.0,0.0,0.0,0.0,...|[0.0,0.0,0.0,0.0,...|\n",
      "|gs://fruits-data/...|Apple Granny Smith|[0.0,0.0,0.0,0.0,...|[0.0,0.0,0.0,0.0,...|\n",
      "|gs://fruits-data/...|          Chestnut|[0.0,0.0,0.0,0.0,...|[0.0,0.0,0.0,0.0,...|\n",
      "|gs://fruits-data/...|          Chestnut|[0.0,0.0,0.0,0.0,...|[0.0,0.0,0.0,0.0,...|\n",
      "+--------------------+------------------+--------------------+--------------------+\n",
      "\n"
     ]
    }
   ],
   "source": [
    "images_with_features_std = std.transform(images_with_features_vector)\n",
    "images_with_features_std.show()"
   ]
  },
  {
   "cell_type": "code",
   "execution_count": 57,
   "metadata": {
    "collapsed": true
   },
   "outputs": [],
   "source": [
    "pca = PCA(k=7, inputCol=\"feats_scaled\", outputCol=\"pca\")\n",
    "modelpca = pca.fit(images_with_features_std)\n",
    "transformed = modelpca.transform(images_with_features_std)"
   ]
  },
  {
   "cell_type": "code",
   "execution_count": 58,
   "metadata": {},
   "outputs": [
    {
     "data": {
      "image/png": "[encoded data removed]",
      "text/plain": [
       "<Figure size 864x360 with 1 Axes>"
      ]
     },
     "metadata": {},
     "output_type": "display_data"
    }
   ],
   "source": [
    "var = modelpca.explainedVariance.cumsum()\n",
    "plt.figure(figsize=(12,5))\n",
    "plt.title('Somme cumulée de variance des composantes de l\\'ACP')\n",
    "plt.xlabel('Nombre de composantes de l\\'ACP')\n",
    "plt.ylabel('Variance cumulée')\n",
    "plt.axhline(y=0.8, color='#02CA91', linestyle='-')\n",
    "plt.axhline(y=0.9, color='#efefef', linestyle='-')\n",
    "plt.plot(range(7),\n",
    "         modelpca.explainedVariance.cumsum())\n",
    "plt.show()"
   ]
  },
  {
   "cell_type": "code",
   "execution_count": 59,
   "metadata": {},
   "outputs": [
    {
     "name": "stdout",
     "output_type": "stream",
     "text": [
      "\u001b[33mDEPRECATION: Python 3.5 reached the end of its life on September 13th, 2020. Please upgrade your Python as Python 3.5 is no longer maintained. pip 21.0 will drop support for Python 3.5 in January 2021. pip 21.0 will remove support for this functionality.\u001b[0m\n",
      "Requirement already satisfied: gcsfs in /home/clalbertini7/anaconda3/lib/python3.5/site-packages (0.6.2)\n",
      "Requirement already satisfied: requests in /home/clalbertini7/anaconda3/lib/python3.5/site-packages (from gcsfs) (2.25.1)\n",
      "Requirement already satisfied: decorator in /home/clalbertini7/anaconda3/lib/python3.5/site-packages (from gcsfs) (4.1.2)\n",
      "Requirement already satisfied: google-auth-oauthlib in /home/clalbertini7/anaconda3/lib/python3.5/site-packages (from gcsfs) (0.4.1)\n",
      "Requirement already satisfied: google-auth>=1.2 in /home/clalbertini7/anaconda3/lib/python3.5/site-packages (from gcsfs) (1.23.0)\n",
      "Requirement already satisfied: fsspec>=0.6.0 in /home/clalbertini7/anaconda3/lib/python3.5/site-packages (from gcsfs) (0.8.0)\n",
      "Requirement already satisfied: setuptools>=40.3.0 in /home/clalbertini7/anaconda3/lib/python3.5/site-packages (from google-auth>=1.2->gcsfs) (50.3.2)\n",
      "Requirement already satisfied: cachetools<5.0,>=2.0.0 in /home/clalbertini7/anaconda3/lib/python3.5/site-packages (from google-auth>=1.2->gcsfs) (4.2.4)\n",
      "Requirement already satisfied: six>=1.9.0 in /home/clalbertini7/anaconda3/lib/python3.5/site-packages (from google-auth>=1.2->gcsfs) (1.16.0)\n",
      "Requirement already satisfied: rsa<5,>=3.1.4 in /home/clalbertini7/anaconda3/lib/python3.5/site-packages (from google-auth>=1.2->gcsfs) (4.7.2)\n",
      "Requirement already satisfied: pyasn1-modules>=0.2.1 in /home/clalbertini7/anaconda3/lib/python3.5/site-packages (from google-auth>=1.2->gcsfs) (0.2.8)\n",
      "Requirement already satisfied: pyasn1<0.5.0,>=0.4.6 in /home/clalbertini7/anaconda3/lib/python3.5/site-packages (from pyasn1-modules>=0.2.1->google-auth>=1.2->gcsfs) (0.4.8)\n",
      "Requirement already satisfied: requests-oauthlib>=0.7.0 in /home/clalbertini7/anaconda3/lib/python3.5/site-packages (from google-auth-oauthlib->gcsfs) (1.3.1)\n",
      "Requirement already satisfied: oauthlib>=3.0.0 in /home/clalbertini7/anaconda3/lib/python3.5/site-packages (from requests-oauthlib>=0.7.0->google-auth-oauthlib->gcsfs) (3.1.0)\n",
      "Requirement already satisfied: idna<3,>=2.5 in /home/clalbertini7/anaconda3/lib/python3.5/site-packages (from requests->gcsfs) (2.10)\n",
      "Requirement already satisfied: urllib3<1.27,>=1.21.1 in /home/clalbertini7/anaconda3/lib/python3.5/site-packages (from requests->gcsfs) (1.26.8)\n",
      "Requirement already satisfied: certifi>=2017.4.17 in /home/clalbertini7/anaconda3/lib/python3.5/site-packages (from requests->gcsfs) (2021.10.8)\n",
      "Requirement already satisfied: chardet<5,>=3.0.2 in /home/clalbertini7/anaconda3/lib/python3.5/site-packages (from requests->gcsfs) (4.0.0)\n"
     ]
    }
   ],
   "source": [
    "! pip install gcsfs"
   ]
  },
  {
   "cell_type": "code",
   "execution_count": 61,
   "metadata": {},
   "outputs": [],
   "source": [
    "transformed_pca = transformed.select('path', 'label', 'pca')\n",
    "transformed_pandas = transformed_pca.toPandas()\n",
    "transformed_pandas.to_csv(\"pca.csv\")"
   ]
  }
 ],
 "metadata": {
  "kernelspec": {
   "display_name": "Python 3",
   "language": "python",
   "name": "python3"
  }
 },
 "nbformat": 4,
 "nbformat_minor": 1
}
