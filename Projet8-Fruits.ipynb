{
 "cells": [
  {
   "cell_type": "markdown",
   "metadata": {},
   "source": [
    "# P8 Déployez un modèle dans le cloud"
   ]
  },
  {
   "cell_type": "markdown",
   "metadata": {},
   "source": [
    "1. Importation des librairies\n",
    "2. Découverte du dataset\n",
    "3. Preprocessing\n",
    "4. Réduction de dimension"
   ]
  },
  {
   "cell_type": "markdown",
   "metadata": {},
   "source": [
    "## I. Importation des librairies et chargement des données"
   ]
  },
  {
   "cell_type": "code",
   "execution_count": 1,
   "metadata": {
    "collapsed": true
   },
   "outputs": [],
   "source": [
    "import os"
   ]
  },
  {
   "cell_type": "code",
   "execution_count": 2,
   "metadata": {},
   "outputs": [],
   "source": [
    "import numpy as np"
   ]
  },
  {
   "cell_type": "code",
   "execution_count": 3,
   "metadata": {},
   "outputs": [],
   "source": [
    "import findspark\n",
    "findspark.init()"
   ]
  },
  {
   "cell_type": "code",
   "execution_count": 4,
   "metadata": {},
   "outputs": [],
   "source": [
    "import seaborn as sns\n",
    "import matplotlib.pyplot as plt"
   ]
  },
  {
   "cell_type": "code",
   "execution_count": 5,
   "metadata": {},
   "outputs": [],
   "source": [
    "# Pyspark\n",
    "from pyspark import SparkContext, SparkConf\n",
    "from pyspark.sql.functions import pandas_udf, PandasUDFType\n",
    "from pyspark.sql.types import ArrayType, IntegerType, FloatType, StringType\n",
    "from pyspark.sql.functions import split, col, udf\n",
    "from pyspark.ml.feature import PCA\n",
    "from pyspark.ml.feature import StandardScaler, StringIndexer\n",
    "from pyspark.sql import SparkSession\n",
    "from pyspark.ml.linalg import Vectors, VectorUDT\n",
    "\n",
    "\n",
    "# Tensorflow \n",
    "#from tensorflow.keras.applications.resnet50 import ResNet50, preprocess_input\n",
    "#from tensorflow.keras.preprocessing.image import img_to_array"
   ]
  },
  {
   "cell_type": "markdown",
   "metadata": {},
   "source": [
    "Chargement des données"
   ]
  },
  {
   "cell_type": "code",
   "execution_count": 7,
   "metadata": {},
   "outputs": [],
   "source": [
    "# https://cloud.google.com/storage/docs/reference/libraries\n",
    "\n",
    "from google.cloud import storage\n",
    "# Instantiates a client\n",
    "storage_client = storage.Client()\n",
    "\n",
    "# The name for the new bucket\n",
    "bucket_name = \"fruits-data\"\n",
    "bucket = storage_client.get_bucket(bucket_name)"
   ]
  },
  {
   "cell_type": "markdown",
   "metadata": {},
   "source": [
    "## II. Découverte du dataset"
   ]
  },
  {
   "cell_type": "code",
   "execution_count": 20,
   "metadata": {},
   "outputs": [],
   "source": [
    "# Get blobs in bucket (including all subdirectories)\n",
    "blobs_test = list(bucket.list_blobs(prefix='fruits-360_dataset/fruits-360/Test'))"
   ]
  },
  {
   "cell_type": "code",
   "execution_count": 21,
   "metadata": {},
   "outputs": [
    {
     "data": {
      "text/plain": [
       "22688"
      ]
     },
     "execution_count": 21,
     "metadata": {},
     "output_type": "execute_result"
    }
   ],
   "source": [
    "len(blobs_test)"
   ]
  },
  {
   "cell_type": "code",
   "execution_count": 22,
   "metadata": {},
   "outputs": [
    {
     "data": {
      "text/plain": [
       "[<Blob: fruits-data, fruits-360_dataset/fruits-360/Test/Apple Braeburn/321_100.jpg, 1643326881690396>,\n",
       " <Blob: fruits-data, fruits-360_dataset/fruits-360/Test/Apple Braeburn/322_100.jpg, 1643326881724369>,\n",
       " <Blob: fruits-data, fruits-360_dataset/fruits-360/Test/Apple Braeburn/323_100.jpg, 1643326881712278>,\n",
       " <Blob: fruits-data, fruits-360_dataset/fruits-360/Test/Apple Braeburn/324_100.jpg, 1643326881726564>,\n",
       " <Blob: fruits-data, fruits-360_dataset/fruits-360/Test/Apple Braeburn/325_100.jpg, 1643326881795268>,\n",
       " <Blob: fruits-data, fruits-360_dataset/fruits-360/Test/Apple Braeburn/326_100.jpg, 1643326881741404>,\n",
       " <Blob: fruits-data, fruits-360_dataset/fruits-360/Test/Apple Braeburn/327_100.jpg, 1643326881763731>,\n",
       " <Blob: fruits-data, fruits-360_dataset/fruits-360/Test/Apple Braeburn/32_100.jpg, 1643326881780522>,\n",
       " <Blob: fruits-data, fruits-360_dataset/fruits-360/Test/Apple Braeburn/33_100.jpg, 1643326881818716>,\n",
       " <Blob: fruits-data, fruits-360_dataset/fruits-360/Test/Apple Braeburn/34_100.jpg, 1643326881816411>]"
      ]
     },
     "execution_count": 22,
     "metadata": {},
     "output_type": "execute_result"
    }
   ],
   "source": [
    "blobs_test[:10]"
   ]
  },
  {
   "cell_type": "markdown",
   "metadata": {},
   "source": [
    "## III. Preprocessing"
   ]
  },
  {
   "cell_type": "markdown",
   "metadata": {},
   "source": [
    "Importer le modèle ResNet50"
   ]
  },
  {
   "cell_type": "code",
   "execution_count": null,
   "metadata": {
    "collapsed": true
   },
   "outputs": [],
   "source": [
    "from keras.applications.resnet50 import ResNet50\n",
    "model = ResNet50(include_top=True, weights='imagenet')"
   ]
  },
  {
   "cell_type": "code",
   "execution_count": null,
   "metadata": {
    "collapsed": true
   },
   "outputs": [],
   "source": []
  },
  {
   "cell_type": "code",
   "execution_count": null,
   "metadata": {
    "collapsed": true
   },
   "outputs": [],
   "source": []
  },
  {
   "cell_type": "markdown",
   "metadata": {},
   "source": [
    "## IV. Réduction de dimension"
   ]
  },
  {
   "cell_type": "code",
   "execution_count": null,
   "metadata": {
    "collapsed": true
   },
   "outputs": [],
   "source": [
    "app_enc = app_enc.sample(10000)\n",
    "pca = PCA()\n",
    "scaler_text = StandardScaler()\n",
    "pca.fit(scaler_text.fit_transform(app_enc.fillna(0).replace([-np.inf, np.inf],0)))"
   ]
  },
  {
   "cell_type": "code",
   "execution_count": null,
   "metadata": {
    "collapsed": true
   },
   "outputs": [],
   "source": [
    "plt.figure(figsize=(12,5))\n",
    "plt.title('Somme cumulée de variance des composantes de l\\'ACP')\n",
    "plt.xlabel('Nombre de composantes de l\\'ACP')\n",
    "plt.ylabel('Variance cumulée')\n",
    "plt.axhline(y=0.8, color='#02CA91', linestyle='-')\n",
    "plt.axhline(y=0.9, color='#efefef', linestyle='-')\n",
    "plt.plot(list(range(app_enc.shape[1])),\n",
    "         np.cumsum(pca.explained_variance_ratio_))"
   ]
  }
 ],
 "metadata": {
  "kernelspec": {
   "display_name": "Python 3",
   "language": "python",
   "name": "python3"
  },
  "language_info": {
   "codemirror_mode": {
    "name": "ipython",
    "version": 3
   },
   "file_extension": ".py",
   "mimetype": "text/x-python",
   "name": "python",
   "nbconvert_exporter": "python",
   "pygments_lexer": "ipython3",
   "version": "3.5.4"
  }
 },
 "nbformat": 4,
 "nbformat_minor": 1
}
